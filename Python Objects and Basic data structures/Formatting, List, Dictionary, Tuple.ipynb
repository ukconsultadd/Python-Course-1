{
 "cells": [
  {
   "cell_type": "markdown",
   "id": "24d940e6",
   "metadata": {},
   "source": [
    "## Print string formatting"
   ]
  },
  {
   "cell_type": "code",
   "execution_count": 3,
   "id": "30ef1523",
   "metadata": {},
   "outputs": [],
   "source": [
    "formatted_string = \"This is a string {}\".format(\"Inserted\")"
   ]
  },
  {
   "cell_type": "code",
   "execution_count": 4,
   "id": "c55a9b70",
   "metadata": {},
   "outputs": [
    {
     "data": {
      "text/plain": [
       "'This is a string Inserted'"
      ]
     },
     "execution_count": 4,
     "metadata": {},
     "output_type": "execute_result"
    }
   ],
   "source": [
    "formatted_string"
   ]
  },
  {
   "cell_type": "code",
   "execution_count": 5,
   "id": "8a8ab166",
   "metadata": {},
   "outputs": [],
   "source": [
    "formatted_string2 = 'the {2} {1} {0}'.format(\"fox\",\"brown\",\"quick\")"
   ]
  },
  {
   "cell_type": "code",
   "execution_count": 6,
   "id": "38eb69b3",
   "metadata": {},
   "outputs": [
    {
     "data": {
      "text/plain": [
       "'the quick brown fox'"
      ]
     },
     "execution_count": 6,
     "metadata": {},
     "output_type": "execute_result"
    }
   ],
   "source": [
    "formatted_string2"
   ]
  },
  {
   "cell_type": "code",
   "execution_count": 7,
   "id": "0871ee2e",
   "metadata": {},
   "outputs": [],
   "source": [
    "formatted_string3 = 'the {0} {0} {0}'.format(\"fox\",\"brown\",\"quick\")"
   ]
  },
  {
   "cell_type": "code",
   "execution_count": 8,
   "id": "731c5616",
   "metadata": {},
   "outputs": [
    {
     "data": {
      "text/plain": [
       "'the fox fox fox'"
      ]
     },
     "execution_count": 8,
     "metadata": {},
     "output_type": "execute_result"
    }
   ],
   "source": [
    "formatted_string3"
   ]
  },
  {
   "cell_type": "code",
   "execution_count": 9,
   "id": "8f3dc500",
   "metadata": {},
   "outputs": [],
   "source": [
    "formatted_string4 = 'the {} {} {}'.format(\"fox\",\"brown\",\"quick\")"
   ]
  },
  {
   "cell_type": "code",
   "execution_count": 10,
   "id": "9ff7e0f6",
   "metadata": {},
   "outputs": [
    {
     "data": {
      "text/plain": [
       "'the fox brown quick'"
      ]
     },
     "execution_count": 10,
     "metadata": {},
     "output_type": "execute_result"
    }
   ],
   "source": [
    "formatted_string4"
   ]
  },
  {
   "cell_type": "code",
   "execution_count": 12,
   "id": "91e68da0",
   "metadata": {},
   "outputs": [],
   "source": [
    "formatted_string5 = 'the {q} {b} {f}'.format(f=\"fox\",b=\"brown\",q=\"quick\")"
   ]
  },
  {
   "cell_type": "code",
   "execution_count": 13,
   "id": "b18cdc08",
   "metadata": {},
   "outputs": [
    {
     "data": {
      "text/plain": [
       "'the quick brown fox'"
      ]
     },
     "execution_count": 13,
     "metadata": {},
     "output_type": "execute_result"
    }
   ],
   "source": [
    "formatted_string5"
   ]
  },
  {
   "cell_type": "code",
   "execution_count": 14,
   "id": "f6028ffb",
   "metadata": {},
   "outputs": [],
   "source": [
    "result=99/7"
   ]
  },
  {
   "cell_type": "code",
   "execution_count": 15,
   "id": "ea428976",
   "metadata": {},
   "outputs": [
    {
     "data": {
      "text/plain": [
       "14.142857142857142"
      ]
     },
     "execution_count": 15,
     "metadata": {},
     "output_type": "execute_result"
    }
   ],
   "source": [
    "result"
   ]
  },
  {
   "cell_type": "code",
   "execution_count": 16,
   "id": "f0f220a0",
   "metadata": {},
   "outputs": [
    {
     "name": "stdout",
     "output_type": "stream",
     "text": [
      "The result was 14.142857142857142\n"
     ]
    }
   ],
   "source": [
    "print(\"The result was {}\".format(result))"
   ]
  },
  {
   "cell_type": "code",
   "execution_count": 43,
   "id": "92db016e",
   "metadata": {},
   "outputs": [
    {
     "name": "stdout",
     "output_type": "stream",
     "text": [
      "The result was 14.14286\n"
     ]
    }
   ],
   "source": [
    "print(\"The result was {q:8.5f}\".format(q=result))"
   ]
  },
  {
   "cell_type": "code",
   "execution_count": null,
   "id": "eff5c350",
   "metadata": {},
   "outputs": [],
   "source": []
  },
  {
   "cell_type": "code",
   "execution_count": null,
   "id": "50574813",
   "metadata": {},
   "outputs": [],
   "source": []
  },
  {
   "cell_type": "code",
   "execution_count": null,
   "id": "1693874a",
   "metadata": {},
   "outputs": [],
   "source": []
  },
  {
   "cell_type": "code",
   "execution_count": 44,
   "id": "e9da7c2c",
   "metadata": {},
   "outputs": [],
   "source": [
    "name = \"Jose\""
   ]
  },
  {
   "cell_type": "code",
   "execution_count": 45,
   "id": "ce523eb9",
   "metadata": {},
   "outputs": [
    {
     "name": "stdout",
     "output_type": "stream",
     "text": [
      "Hello, his name is Jose\n"
     ]
    }
   ],
   "source": [
    "print(\"Hello, his name is {}\".format(name))"
   ]
  },
  {
   "cell_type": "code",
   "execution_count": 46,
   "id": "dd2c2bc9",
   "metadata": {},
   "outputs": [
    {
     "name": "stdout",
     "output_type": "stream",
     "text": [
      "Hello, his name is Jose\n"
     ]
    }
   ],
   "source": [
    "print(f'Hello, his name is {name}')"
   ]
  },
  {
   "cell_type": "code",
   "execution_count": 47,
   "id": "2a381a79",
   "metadata": {},
   "outputs": [],
   "source": [
    "name= \"ujjwal\"\n",
    "age = 21"
   ]
  },
  {
   "cell_type": "code",
   "execution_count": 48,
   "id": "399d1d72",
   "metadata": {},
   "outputs": [
    {
     "name": "stdout",
     "output_type": "stream",
     "text": [
      "ujjwal is 21 years old\n"
     ]
    }
   ],
   "source": [
    "print(f'{name} is {age} years old')"
   ]
  },
  {
   "cell_type": "code",
   "execution_count": null,
   "id": "3fe89b81",
   "metadata": {},
   "outputs": [],
   "source": []
  },
  {
   "cell_type": "code",
   "execution_count": null,
   "id": "7085ac09",
   "metadata": {},
   "outputs": [],
   "source": []
  },
  {
   "cell_type": "markdown",
   "id": "6177aaf2",
   "metadata": {},
   "source": [
    "## List "
   ]
  },
  {
   "cell_type": "code",
   "execution_count": 49,
   "id": "fc795813",
   "metadata": {},
   "outputs": [],
   "source": [
    "my_list = []"
   ]
  },
  {
   "cell_type": "code",
   "execution_count": 51,
   "id": "fe547760",
   "metadata": {},
   "outputs": [],
   "source": [
    "my_list= [1,2,3,4,]"
   ]
  },
  {
   "cell_type": "code",
   "execution_count": 52,
   "id": "73079271",
   "metadata": {},
   "outputs": [],
   "source": [
    "my_list = [12,\"abc\",12.3]"
   ]
  },
  {
   "cell_type": "code",
   "execution_count": 53,
   "id": "099a81ef",
   "metadata": {},
   "outputs": [
    {
     "data": {
      "text/plain": [
       "12"
      ]
     },
     "execution_count": 53,
     "metadata": {},
     "output_type": "execute_result"
    }
   ],
   "source": [
    "my_list[0]"
   ]
  },
  {
   "cell_type": "code",
   "execution_count": 54,
   "id": "aa04b806",
   "metadata": {},
   "outputs": [
    {
     "data": {
      "text/plain": [
       "3"
      ]
     },
     "execution_count": 54,
     "metadata": {},
     "output_type": "execute_result"
    }
   ],
   "source": [
    "len(my_list)"
   ]
  },
  {
   "cell_type": "code",
   "execution_count": 55,
   "id": "faa66519",
   "metadata": {},
   "outputs": [
    {
     "data": {
      "text/plain": [
       "[12, 'abc']"
      ]
     },
     "execution_count": 55,
     "metadata": {},
     "output_type": "execute_result"
    }
   ],
   "source": [
    "my_list[:2]"
   ]
  },
  {
   "cell_type": "code",
   "execution_count": 56,
   "id": "2fbb9443",
   "metadata": {},
   "outputs": [],
   "source": [
    "another_list=[5,6,7,8]"
   ]
  },
  {
   "cell_type": "code",
   "execution_count": 61,
   "id": "c56b97a6",
   "metadata": {},
   "outputs": [],
   "source": [
    "new_list = my_list+another_list"
   ]
  },
  {
   "cell_type": "code",
   "execution_count": 63,
   "id": "52a548b0",
   "metadata": {},
   "outputs": [
    {
     "data": {
      "text/plain": [
       "[12, 'abc', 12.3, 5, 6, 7, 8]"
      ]
     },
     "execution_count": 63,
     "metadata": {},
     "output_type": "execute_result"
    }
   ],
   "source": [
    "new_list"
   ]
  },
  {
   "cell_type": "code",
   "execution_count": 64,
   "id": "ef55c84d",
   "metadata": {},
   "outputs": [],
   "source": [
    "new_list.append(9)"
   ]
  },
  {
   "cell_type": "code",
   "execution_count": 65,
   "id": "e3dfff8a",
   "metadata": {},
   "outputs": [],
   "source": [
    "new_list.append(10)"
   ]
  },
  {
   "cell_type": "code",
   "execution_count": 66,
   "id": "2b01301f",
   "metadata": {},
   "outputs": [
    {
     "data": {
      "text/plain": [
       "[12, 'abc', 12.3, 5, 6, 7, 8, 9, 10]"
      ]
     },
     "execution_count": 66,
     "metadata": {},
     "output_type": "execute_result"
    }
   ],
   "source": [
    "new_list"
   ]
  },
  {
   "cell_type": "code",
   "execution_count": 67,
   "id": "804ec844",
   "metadata": {},
   "outputs": [
    {
     "data": {
      "text/plain": [
       "<function list.pop(index=-1, /)>"
      ]
     },
     "execution_count": 67,
     "metadata": {},
     "output_type": "execute_result"
    }
   ],
   "source": [
    "new_list.pop"
   ]
  },
  {
   "cell_type": "code",
   "execution_count": 71,
   "id": "b8b7ea4b",
   "metadata": {},
   "outputs": [],
   "source": [
    "popped_item = new_list.pop()"
   ]
  },
  {
   "cell_type": "code",
   "execution_count": 72,
   "id": "147dc938",
   "metadata": {},
   "outputs": [
    {
     "data": {
      "text/plain": [
       "8"
      ]
     },
     "execution_count": 72,
     "metadata": {},
     "output_type": "execute_result"
    }
   ],
   "source": [
    "popped_item"
   ]
  },
  {
   "cell_type": "code",
   "execution_count": 69,
   "id": "383686e3",
   "metadata": {},
   "outputs": [
    {
     "data": {
      "text/plain": [
       "9"
      ]
     },
     "execution_count": 69,
     "metadata": {},
     "output_type": "execute_result"
    }
   ],
   "source": [
    "new_list.pop()"
   ]
  },
  {
   "cell_type": "code",
   "execution_count": 70,
   "id": "41cf6bb0",
   "metadata": {},
   "outputs": [
    {
     "data": {
      "text/plain": [
       "[12, 'abc', 12.3, 5, 6, 7, 8]"
      ]
     },
     "execution_count": 70,
     "metadata": {},
     "output_type": "execute_result"
    }
   ],
   "source": [
    "new_list"
   ]
  },
  {
   "cell_type": "code",
   "execution_count": 74,
   "id": "439a6be6",
   "metadata": {},
   "outputs": [],
   "source": [
    "new_list1 = [\"hi\",\"hello\",\"heya\"]"
   ]
  },
  {
   "cell_type": "code",
   "execution_count": 77,
   "id": "bb3dca04",
   "metadata": {},
   "outputs": [],
   "source": [
    "sorted_list = new_list1.sort()"
   ]
  },
  {
   "cell_type": "code",
   "execution_count": 79,
   "id": "1744eda8",
   "metadata": {},
   "outputs": [
    {
     "data": {
      "text/plain": [
       "NoneType"
      ]
     },
     "execution_count": 79,
     "metadata": {},
     "output_type": "execute_result"
    }
   ],
   "source": [
    "type(sorted_list)\n"
   ]
  },
  {
   "cell_type": "code",
   "execution_count": 76,
   "id": "31ccb8ff",
   "metadata": {},
   "outputs": [
    {
     "data": {
      "text/plain": [
       "['hello', 'heya', 'hi']"
      ]
     },
     "execution_count": 76,
     "metadata": {},
     "output_type": "execute_result"
    }
   ],
   "source": [
    "new_list1"
   ]
  },
  {
   "cell_type": "code",
   "execution_count": 80,
   "id": "dd9721b1",
   "metadata": {},
   "outputs": [],
   "source": [
    "None"
   ]
  },
  {
   "cell_type": "code",
   "execution_count": 81,
   "id": "66bc7269",
   "metadata": {},
   "outputs": [
    {
     "data": {
      "text/plain": [
       "NoneType"
      ]
     },
     "execution_count": 81,
     "metadata": {},
     "output_type": "execute_result"
    }
   ],
   "source": [
    "type(None)"
   ]
  },
  {
   "cell_type": "code",
   "execution_count": 82,
   "id": "4d47468d",
   "metadata": {},
   "outputs": [],
   "source": [
    "num_list=[4,5,6,3,2,1]\n",
    "num_list.sort()"
   ]
  },
  {
   "cell_type": "code",
   "execution_count": 83,
   "id": "c6aa438c",
   "metadata": {},
   "outputs": [
    {
     "data": {
      "text/plain": [
       "[1, 2, 3, 4, 5, 6]"
      ]
     },
     "execution_count": 83,
     "metadata": {},
     "output_type": "execute_result"
    }
   ],
   "source": [
    "num_list"
   ]
  },
  {
   "cell_type": "code",
   "execution_count": 84,
   "id": "0a2a329f",
   "metadata": {},
   "outputs": [],
   "source": [
    "num_list.reverse()"
   ]
  },
  {
   "cell_type": "code",
   "execution_count": 85,
   "id": "de15e2c5",
   "metadata": {},
   "outputs": [
    {
     "data": {
      "text/plain": [
       "[6, 5, 4, 3, 2, 1]"
      ]
     },
     "execution_count": 85,
     "metadata": {},
     "output_type": "execute_result"
    }
   ],
   "source": [
    "num_list"
   ]
  },
  {
   "cell_type": "code",
   "execution_count": 86,
   "id": "d83472c9",
   "metadata": {},
   "outputs": [],
   "source": [
    "num_list.sort(reverse=True)"
   ]
  },
  {
   "cell_type": "code",
   "execution_count": 87,
   "id": "07913826",
   "metadata": {},
   "outputs": [
    {
     "data": {
      "text/plain": [
       "[6, 5, 4, 3, 2, 1]"
      ]
     },
     "execution_count": 87,
     "metadata": {},
     "output_type": "execute_result"
    }
   ],
   "source": [
    "num_list\n"
   ]
  },
  {
   "cell_type": "code",
   "execution_count": null,
   "id": "93ecfa99",
   "metadata": {},
   "outputs": [],
   "source": []
  },
  {
   "cell_type": "code",
   "execution_count": null,
   "id": "2ba48c51",
   "metadata": {},
   "outputs": [],
   "source": []
  },
  {
   "cell_type": "markdown",
   "id": "d0bfc699",
   "metadata": {},
   "source": [
    "## Dictionary"
   ]
  },
  {
   "cell_type": "code",
   "execution_count": 88,
   "id": "50f04046",
   "metadata": {},
   "outputs": [],
   "source": [
    "dict1={\"key1\":\"value1\", \"key2\":\"value2\"}"
   ]
  },
  {
   "cell_type": "code",
   "execution_count": 89,
   "id": "99aeac09",
   "metadata": {},
   "outputs": [
    {
     "data": {
      "text/plain": [
       "{'key1': 'value1', 'key2': 'value2'}"
      ]
     },
     "execution_count": 89,
     "metadata": {},
     "output_type": "execute_result"
    }
   ],
   "source": [
    "dict1"
   ]
  },
  {
   "cell_type": "code",
   "execution_count": 90,
   "id": "88fba296",
   "metadata": {},
   "outputs": [],
   "source": [
    "prices = {\"apples\":5.4,\"bananas\":4.5}"
   ]
  },
  {
   "cell_type": "code",
   "execution_count": 91,
   "id": "6c5ebb59",
   "metadata": {},
   "outputs": [
    {
     "data": {
      "text/plain": [
       "{'apples': 5.4, 'bananas': 4.5}"
      ]
     },
     "execution_count": 91,
     "metadata": {},
     "output_type": "execute_result"
    }
   ],
   "source": [
    "prices"
   ]
  },
  {
   "cell_type": "code",
   "execution_count": 92,
   "id": "9344df07",
   "metadata": {},
   "outputs": [
    {
     "data": {
      "text/plain": [
       "5.4"
      ]
     },
     "execution_count": 92,
     "metadata": {},
     "output_type": "execute_result"
    }
   ],
   "source": [
    "prices[\"apples\"]"
   ]
  },
  {
   "cell_type": "code",
   "execution_count": 95,
   "id": "69476894",
   "metadata": {},
   "outputs": [
    {
     "data": {
      "text/plain": [
       "['apples', 'bananas']"
      ]
     },
     "execution_count": 95,
     "metadata": {},
     "output_type": "execute_result"
    }
   ],
   "source": [
    "list(prices.keys())"
   ]
  },
  {
   "cell_type": "code",
   "execution_count": 96,
   "id": "7ac315b3",
   "metadata": {},
   "outputs": [
    {
     "data": {
      "text/plain": [
       "[5.4, 4.5]"
      ]
     },
     "execution_count": 96,
     "metadata": {},
     "output_type": "execute_result"
    }
   ],
   "source": [
    "list(prices.values())"
   ]
  },
  {
   "cell_type": "code",
   "execution_count": 97,
   "id": "5884da29",
   "metadata": {},
   "outputs": [
    {
     "data": {
      "text/plain": [
       "[('apples', 5.4), ('bananas', 4.5)]"
      ]
     },
     "execution_count": 97,
     "metadata": {},
     "output_type": "execute_result"
    }
   ],
   "source": [
    "list(prices.items())"
   ]
  },
  {
   "cell_type": "code",
   "execution_count": 98,
   "id": "9e5e4f67",
   "metadata": {},
   "outputs": [],
   "source": [
    "prices[\"apples\"]=100.9"
   ]
  },
  {
   "cell_type": "code",
   "execution_count": 99,
   "id": "0a49ebda",
   "metadata": {},
   "outputs": [
    {
     "data": {
      "text/plain": [
       "{'apples': 100.9, 'bananas': 4.5}"
      ]
     },
     "execution_count": 99,
     "metadata": {},
     "output_type": "execute_result"
    }
   ],
   "source": [
    "prices"
   ]
  },
  {
   "cell_type": "code",
   "execution_count": 104,
   "id": "bcfd274c",
   "metadata": {},
   "outputs": [],
   "source": [
    "new_dict = {'a':1,'b':2,'c':3,'d':[12,23,34],'e':{\"key\":[9,8,7,6,5]}}"
   ]
  },
  {
   "cell_type": "code",
   "execution_count": 106,
   "id": "f4b5ff4d",
   "metadata": {},
   "outputs": [],
   "source": [
    "new_dict['e'][\"key\"].append(3)"
   ]
  },
  {
   "cell_type": "code",
   "execution_count": 107,
   "id": "ca4bb26c",
   "metadata": {},
   "outputs": [
    {
     "data": {
      "text/plain": [
       "{'a': 1, 'b': 2, 'c': 3, 'd': [12, 23, 34], 'e': {'key': [9, 8, 7, 6, 5, 3]}}"
      ]
     },
     "execution_count": 107,
     "metadata": {},
     "output_type": "execute_result"
    }
   ],
   "source": [
    "new_dict"
   ]
  },
  {
   "cell_type": "code",
   "execution_count": 108,
   "id": "208b0703",
   "metadata": {},
   "outputs": [],
   "source": [
    "new_dict['a']=900"
   ]
  },
  {
   "cell_type": "code",
   "execution_count": 109,
   "id": "b199c13e",
   "metadata": {},
   "outputs": [
    {
     "data": {
      "text/plain": [
       "{'a': 900, 'b': 2, 'c': 3, 'd': [12, 23, 34], 'e': {'key': [9, 8, 7, 6, 5, 3]}}"
      ]
     },
     "execution_count": 109,
     "metadata": {},
     "output_type": "execute_result"
    }
   ],
   "source": [
    "new_dict"
   ]
  },
  {
   "cell_type": "code",
   "execution_count": null,
   "id": "255b78da",
   "metadata": {},
   "outputs": [],
   "source": []
  },
  {
   "cell_type": "code",
   "execution_count": null,
   "id": "4dfb98a2",
   "metadata": {},
   "outputs": [],
   "source": []
  },
  {
   "cell_type": "markdown",
   "id": "83a3e08e",
   "metadata": {},
   "source": [
    "## Tuple"
   ]
  },
  {
   "cell_type": "code",
   "execution_count": 110,
   "id": "21a0d2a0",
   "metadata": {},
   "outputs": [],
   "source": [
    "a=(1,2,3,4,5)"
   ]
  },
  {
   "cell_type": "code",
   "execution_count": 111,
   "id": "3c34e685",
   "metadata": {},
   "outputs": [
    {
     "data": {
      "text/plain": [
       "tuple"
      ]
     },
     "execution_count": 111,
     "metadata": {},
     "output_type": "execute_result"
    }
   ],
   "source": [
    "type(a)"
   ]
  },
  {
   "cell_type": "code",
   "execution_count": 112,
   "id": "5d468840",
   "metadata": {},
   "outputs": [],
   "source": [
    "b=[1,2,3,4,5]"
   ]
  },
  {
   "cell_type": "code",
   "execution_count": 113,
   "id": "16d2d917",
   "metadata": {},
   "outputs": [
    {
     "data": {
      "text/plain": [
       "list"
      ]
     },
     "execution_count": 113,
     "metadata": {},
     "output_type": "execute_result"
    }
   ],
   "source": [
    "type(b)"
   ]
  },
  {
   "cell_type": "code",
   "execution_count": 114,
   "id": "0518ef21",
   "metadata": {},
   "outputs": [],
   "source": [
    "t=('a','a','b')"
   ]
  },
  {
   "cell_type": "code",
   "execution_count": 115,
   "id": "9ebfa2a5",
   "metadata": {},
   "outputs": [
    {
     "data": {
      "text/plain": [
       "2"
      ]
     },
     "execution_count": 115,
     "metadata": {},
     "output_type": "execute_result"
    }
   ],
   "source": [
    "t.count('a')"
   ]
  },
  {
   "cell_type": "code",
   "execution_count": 116,
   "id": "66b4e1be",
   "metadata": {},
   "outputs": [
    {
     "data": {
      "text/plain": [
       "0"
      ]
     },
     "execution_count": 116,
     "metadata": {},
     "output_type": "execute_result"
    }
   ],
   "source": [
    "t.index('a')"
   ]
  },
  {
   "cell_type": "code",
   "execution_count": 117,
   "id": "7fc8e7f9",
   "metadata": {},
   "outputs": [
    {
     "data": {
      "text/plain": [
       "2"
      ]
     },
     "execution_count": 117,
     "metadata": {},
     "output_type": "execute_result"
    }
   ],
   "source": [
    "t.index('b')"
   ]
  },
  {
   "cell_type": "code",
   "execution_count": 119,
   "id": "93bcb3c3",
   "metadata": {},
   "outputs": [],
   "source": [
    "#t[0]=\"hi\"  --> error"
   ]
  },
  {
   "cell_type": "code",
   "execution_count": null,
   "id": "a8dd230d",
   "metadata": {},
   "outputs": [],
   "source": []
  }
 ],
 "metadata": {
  "kernelspec": {
   "display_name": "Python 3",
   "language": "python",
   "name": "python3"
  },
  "language_info": {
   "codemirror_mode": {
    "name": "ipython",
    "version": 3
   },
   "file_extension": ".py",
   "mimetype": "text/x-python",
   "name": "python",
   "nbconvert_exporter": "python",
   "pygments_lexer": "ipython3",
   "version": "3.8.8"
  }
 },
 "nbformat": 4,
 "nbformat_minor": 5
}
