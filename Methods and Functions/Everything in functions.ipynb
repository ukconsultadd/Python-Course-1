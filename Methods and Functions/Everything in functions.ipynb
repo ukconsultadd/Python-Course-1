{
 "cells": [
  {
   "cell_type": "markdown",
   "id": "cbe3cf49",
   "metadata": {},
   "source": [
    "## Python Built-in methods"
   ]
  },
  {
   "cell_type": "code",
   "execution_count": 2,
   "id": "a2d56339",
   "metadata": {},
   "outputs": [],
   "source": [
    "mylist=[1,2,3]"
   ]
  },
  {
   "cell_type": "code",
   "execution_count": 3,
   "id": "f9da3f11",
   "metadata": {},
   "outputs": [],
   "source": [
    "mylist.append(4)"
   ]
  },
  {
   "cell_type": "code",
   "execution_count": 4,
   "id": "dd24b62d",
   "metadata": {},
   "outputs": [
    {
     "data": {
      "text/plain": [
       "4"
      ]
     },
     "execution_count": 4,
     "metadata": {},
     "output_type": "execute_result"
    }
   ],
   "source": [
    "mylist.pop()"
   ]
  },
  {
   "cell_type": "code",
   "execution_count": 15,
   "id": "cb5dda21",
   "metadata": {},
   "outputs": [
    {
     "data": {
      "text/plain": [
       "[1, 2, 3, 6, 9, 9, 6]"
      ]
     },
     "execution_count": 15,
     "metadata": {},
     "output_type": "execute_result"
    }
   ],
   "source": [
    "mylist"
   ]
  },
  {
   "cell_type": "code",
   "execution_count": 16,
   "id": "50a0fac8",
   "metadata": {},
   "outputs": [
    {
     "name": "stdout",
     "output_type": "stream",
     "text": [
      "Help on built-in function insert:\n",
      "\n",
      "insert(index, object, /) method of builtins.list instance\n",
      "    Insert object before index.\n",
      "\n"
     ]
    }
   ],
   "source": [
    "help(mylist.insert)"
   ]
  },
  {
   "cell_type": "code",
   "execution_count": 17,
   "id": "35623096",
   "metadata": {},
   "outputs": [],
   "source": [
    "mylist.insert(8,6)"
   ]
  },
  {
   "cell_type": "code",
   "execution_count": 18,
   "id": "a5d3f289",
   "metadata": {},
   "outputs": [
    {
     "data": {
      "text/plain": [
       "[1, 2, 3, 6, 9, 9, 6, 6]"
      ]
     },
     "execution_count": 18,
     "metadata": {},
     "output_type": "execute_result"
    }
   ],
   "source": [
    "mylist"
   ]
  },
  {
   "cell_type": "code",
   "execution_count": 21,
   "id": "257be4d0",
   "metadata": {},
   "outputs": [],
   "source": [
    "mylist.insert(1,6)"
   ]
  },
  {
   "cell_type": "code",
   "execution_count": 22,
   "id": "67843ba4",
   "metadata": {},
   "outputs": [
    {
     "data": {
      "text/plain": [
       "[1, 6, 2, 3, 6, 9, 9, 6, 6]"
      ]
     },
     "execution_count": 22,
     "metadata": {},
     "output_type": "execute_result"
    }
   ],
   "source": [
    "mylist"
   ]
  },
  {
   "cell_type": "code",
   "execution_count": null,
   "id": "240334d5",
   "metadata": {},
   "outputs": [],
   "source": []
  },
  {
   "cell_type": "markdown",
   "id": "828cc5a2",
   "metadata": {},
   "source": [
    "## Functions"
   ]
  },
  {
   "cell_type": "code",
   "execution_count": 23,
   "id": "d94abf0c",
   "metadata": {},
   "outputs": [],
   "source": [
    "def say_hello():\n",
    "    print(\"hello, how are you??\")"
   ]
  },
  {
   "cell_type": "code",
   "execution_count": 24,
   "id": "b15f8dd3",
   "metadata": {},
   "outputs": [
    {
     "name": "stdout",
     "output_type": "stream",
     "text": [
      "hello, how are you??\n"
     ]
    }
   ],
   "source": [
    "say_hello()"
   ]
  },
  {
   "cell_type": "code",
   "execution_count": 27,
   "id": "4278d0c6",
   "metadata": {},
   "outputs": [],
   "source": [
    "def say_hello(name=\"Default\"):\n",
    "    print(f'hello {name} how are you??')"
   ]
  },
  {
   "cell_type": "code",
   "execution_count": 30,
   "id": "8434f91b",
   "metadata": {},
   "outputs": [
    {
     "name": "stdout",
     "output_type": "stream",
     "text": [
      "hello Ujjwal how are you??\n"
     ]
    }
   ],
   "source": [
    "say_hello(\"Ujjwal\")"
   ]
  },
  {
   "cell_type": "code",
   "execution_count": 32,
   "id": "1b99f1d1",
   "metadata": {},
   "outputs": [
    {
     "name": "stdout",
     "output_type": "stream",
     "text": [
      "3\n"
     ]
    }
   ],
   "source": [
    "def add_num(num1,num2):\n",
    "    return num1+num2;\n",
    "print(add_num(1,2))"
   ]
  },
  {
   "cell_type": "code",
   "execution_count": 33,
   "id": "b7fcbc1b",
   "metadata": {},
   "outputs": [],
   "source": [
    "def my_func(a,b):\n",
    "    print(a+b)\n",
    "    return a+b;\n"
   ]
  },
  {
   "cell_type": "code",
   "execution_count": 35,
   "id": "317d62ba",
   "metadata": {},
   "outputs": [
    {
     "name": "stdout",
     "output_type": "stream",
     "text": [
      "30\n"
     ]
    }
   ],
   "source": [
    "result = my_func(10,20)"
   ]
  },
  {
   "cell_type": "code",
   "execution_count": 36,
   "id": "27976ed3",
   "metadata": {},
   "outputs": [
    {
     "data": {
      "text/plain": [
       "30"
      ]
     },
     "execution_count": 36,
     "metadata": {},
     "output_type": "execute_result"
    }
   ],
   "source": [
    "result "
   ]
  },
  {
   "cell_type": "code",
   "execution_count": 37,
   "id": "6eb9ae97",
   "metadata": {},
   "outputs": [
    {
     "data": {
      "text/plain": [
       "int"
      ]
     },
     "execution_count": 37,
     "metadata": {},
     "output_type": "execute_result"
    }
   ],
   "source": [
    "type(result)"
   ]
  },
  {
   "cell_type": "code",
   "execution_count": 38,
   "id": "4e741c46",
   "metadata": {},
   "outputs": [
    {
     "data": {
      "text/plain": [
       "30"
      ]
     },
     "execution_count": 38,
     "metadata": {},
     "output_type": "execute_result"
    }
   ],
   "source": [
    "def sum_number(a,b):\n",
    "    return a+b;\n",
    "\n",
    "sum_number(10,20)"
   ]
  },
  {
   "cell_type": "code",
   "execution_count": 39,
   "id": "44fac275",
   "metadata": {},
   "outputs": [
    {
     "data": {
      "text/plain": [
       "'1020'"
      ]
     },
     "execution_count": 39,
     "metadata": {},
     "output_type": "execute_result"
    }
   ],
   "source": [
    "sum_number('10','20')"
   ]
  },
  {
   "cell_type": "markdown",
   "id": "3962460d",
   "metadata": {},
   "source": [
    "## Functions with logic"
   ]
  },
  {
   "cell_type": "code",
   "execution_count": 42,
   "id": "a712b8ea",
   "metadata": {},
   "outputs": [],
   "source": [
    "def check_even_number(num):\n",
    "    return num%2==0"
   ]
  },
  {
   "cell_type": "code",
   "execution_count": 43,
   "id": "9a47f3da",
   "metadata": {},
   "outputs": [
    {
     "data": {
      "text/plain": [
       "True"
      ]
     },
     "execution_count": 43,
     "metadata": {},
     "output_type": "execute_result"
    }
   ],
   "source": [
    "check_even_number(10)"
   ]
  },
  {
   "cell_type": "code",
   "execution_count": 45,
   "id": "bc627f48",
   "metadata": {},
   "outputs": [
    {
     "data": {
      "text/plain": [
       "False"
      ]
     },
     "execution_count": 45,
     "metadata": {},
     "output_type": "execute_result"
    }
   ],
   "source": [
    "check_even_number(21)"
   ]
  },
  {
   "cell_type": "code",
   "execution_count": 49,
   "id": "eae8be87",
   "metadata": {},
   "outputs": [],
   "source": [
    "def check_even_list(num_list):\n",
    "    for i in num_list:\n",
    "        if(i%2==0):\n",
    "            return True\n",
    "        else:\n",
    "            pass\n",
    "    else:\n",
    "        return False"
   ]
  },
  {
   "cell_type": "code",
   "execution_count": 50,
   "id": "7f767750",
   "metadata": {},
   "outputs": [
    {
     "data": {
      "text/plain": [
       "True"
      ]
     },
     "execution_count": 50,
     "metadata": {},
     "output_type": "execute_result"
    }
   ],
   "source": [
    "check_even_list([1,2,3])"
   ]
  },
  {
   "cell_type": "code",
   "execution_count": 51,
   "id": "95d9e5ef",
   "metadata": {},
   "outputs": [
    {
     "data": {
      "text/plain": [
       "False"
      ]
     },
     "execution_count": 51,
     "metadata": {},
     "output_type": "execute_result"
    }
   ],
   "source": [
    "check_even_list([1,3,5])"
   ]
  },
  {
   "cell_type": "markdown",
   "id": "d82e708f",
   "metadata": {},
   "source": [
    "## Tuple unpacking with python functions"
   ]
  },
  {
   "cell_type": "code",
   "execution_count": 52,
   "id": "7dadab70",
   "metadata": {},
   "outputs": [],
   "source": [
    "stock_prices = [('APPL',200),('GOOG',400),('MSFT',100)]"
   ]
  },
  {
   "cell_type": "code",
   "execution_count": 53,
   "id": "602a9f26",
   "metadata": {},
   "outputs": [
    {
     "name": "stdout",
     "output_type": "stream",
     "text": [
      "('APPL', 200)\n",
      "('GOOG', 400)\n",
      "('MSFT', 100)\n"
     ]
    }
   ],
   "source": [
    "for item in stock_prices:\n",
    "    print(item)"
   ]
  },
  {
   "cell_type": "code",
   "execution_count": 54,
   "id": "9f40a84f",
   "metadata": {},
   "outputs": [
    {
     "name": "stdout",
     "output_type": "stream",
     "text": [
      "220.0\n",
      "440.0\n",
      "110.0\n"
     ]
    }
   ],
   "source": [
    "for ticker,price in stock_prices:\n",
    "    print(price+0.1*price)"
   ]
  },
  {
   "cell_type": "code",
   "execution_count": 55,
   "id": "b28f4c74",
   "metadata": {},
   "outputs": [],
   "source": [
    "work_hours = [(\"Ujjwal\",200),(\"Vishu\",300),(\"Akshi\",500)]"
   ]
  },
  {
   "cell_type": "code",
   "execution_count": 56,
   "id": "4b5ff98c",
   "metadata": {},
   "outputs": [],
   "source": [
    "def employee_check(work_hrs):\n",
    "    current_max=0;\n",
    "    employee_of_month = \"\";\n",
    "    \n",
    "    for name,hours in work_hrs:\n",
    "        if(hours>current_max):\n",
    "            current_max=hours;\n",
    "            employee_of_month = name;\n",
    "    return (employee_of_month,current_max)\n"
   ]
  },
  {
   "cell_type": "code",
   "execution_count": 57,
   "id": "4375ad27",
   "metadata": {},
   "outputs": [
    {
     "data": {
      "text/plain": [
       "('Akshi', 500)"
      ]
     },
     "execution_count": 57,
     "metadata": {},
     "output_type": "execute_result"
    }
   ],
   "source": [
    "employee_check(work_hours)"
   ]
  },
  {
   "cell_type": "markdown",
   "id": "e4a16b43",
   "metadata": {},
   "source": [
    "## Interactions between Python Modules"
   ]
  },
  {
   "cell_type": "code",
   "execution_count": 58,
   "id": "cdd0e6d0",
   "metadata": {},
   "outputs": [],
   "source": [
    "example= [1,2,3,4,5,6,7]"
   ]
  },
  {
   "cell_type": "code",
   "execution_count": 59,
   "id": "5bf4b392",
   "metadata": {},
   "outputs": [],
   "source": [
    "from random import shuffle"
   ]
  },
  {
   "cell_type": "code",
   "execution_count": 60,
   "id": "e343c2be",
   "metadata": {},
   "outputs": [],
   "source": [
    "shuffle(example)"
   ]
  },
  {
   "cell_type": "code",
   "execution_count": 61,
   "id": "daac6664",
   "metadata": {},
   "outputs": [
    {
     "data": {
      "text/plain": [
       "[6, 1, 7, 3, 5, 4, 2]"
      ]
     },
     "execution_count": 61,
     "metadata": {},
     "output_type": "execute_result"
    }
   ],
   "source": [
    "example"
   ]
  },
  {
   "cell_type": "code",
   "execution_count": 62,
   "id": "f20fbb06",
   "metadata": {},
   "outputs": [],
   "source": [
    "def shuffle_list(mylist):\n",
    "    shuffle(mylist)\n",
    "    return mylist"
   ]
  },
  {
   "cell_type": "code",
   "execution_count": 63,
   "id": "cc8e0e18",
   "metadata": {},
   "outputs": [
    {
     "data": {
      "text/plain": [
       "[5, 2, 1, 3, 6, 7, 4]"
      ]
     },
     "execution_count": 63,
     "metadata": {},
     "output_type": "execute_result"
    }
   ],
   "source": [
    "result = shuffle_list(example);\n",
    "result"
   ]
  },
  {
   "cell_type": "code",
   "execution_count": 64,
   "id": "c84df6a2",
   "metadata": {},
   "outputs": [],
   "source": [
    "mylist = [' ','O',' ']"
   ]
  },
  {
   "cell_type": "code",
   "execution_count": 65,
   "id": "b2393e58",
   "metadata": {},
   "outputs": [
    {
     "data": {
      "text/plain": [
       "['O', ' ', ' ']"
      ]
     },
     "execution_count": 65,
     "metadata": {},
     "output_type": "execute_result"
    }
   ],
   "source": [
    "shuffle_list(mylist)"
   ]
  },
  {
   "cell_type": "code",
   "execution_count": 70,
   "id": "058cb940",
   "metadata": {},
   "outputs": [],
   "source": [
    "def player_guess():\n",
    "    guess = ''\n",
    "    while guess not in ['0','1','2']:\n",
    "        guess = input(\"Pick a number : 0, 1 or 2.\\n\")\n",
    "    \n",
    "    return int(guess)"
   ]
  },
  {
   "cell_type": "code",
   "execution_count": 71,
   "id": "0c76bb3c",
   "metadata": {},
   "outputs": [
    {
     "name": "stdout",
     "output_type": "stream",
     "text": [
      "Pick a number : 0, 1 or 2.\n",
      "0\n"
     ]
    },
    {
     "data": {
      "text/plain": [
       "0"
      ]
     },
     "execution_count": 71,
     "metadata": {},
     "output_type": "execute_result"
    }
   ],
   "source": [
    "player_guess()"
   ]
  },
  {
   "cell_type": "code",
   "execution_count": 72,
   "id": "9cec4cf3",
   "metadata": {},
   "outputs": [
    {
     "name": "stdout",
     "output_type": "stream",
     "text": [
      "Pick a number : 0, 1 or 2.\n",
      "12\n",
      "Pick a number : 0, 1 or 2.\n",
      "1\n"
     ]
    }
   ],
   "source": [
    "my_guess_index = player_guess()"
   ]
  },
  {
   "cell_type": "code",
   "execution_count": 73,
   "id": "a7418164",
   "metadata": {},
   "outputs": [
    {
     "data": {
      "text/plain": [
       "1"
      ]
     },
     "execution_count": 73,
     "metadata": {},
     "output_type": "execute_result"
    }
   ],
   "source": [
    "my_guess_index"
   ]
  },
  {
   "cell_type": "code",
   "execution_count": 74,
   "id": "cdf1de4b",
   "metadata": {},
   "outputs": [],
   "source": [
    "def check_guess(mylist,guess):\n",
    "    if(mylist[guess]=='O'):\n",
    "        print(\"Correct Guess!!\")\n",
    "    else:\n",
    "        print(\"Wrong Guess!!\")\n",
    "        print(mylist)"
   ]
  },
  {
   "cell_type": "code",
   "execution_count": 77,
   "id": "e01b949c",
   "metadata": {},
   "outputs": [
    {
     "name": "stdout",
     "output_type": "stream",
     "text": [
      "Pick a number : 0, 1 or 2.\n",
      "2\n",
      "Correct Guess!!\n"
     ]
    }
   ],
   "source": [
    "#initial list\n",
    "mylist = [' ','O',' ']\n",
    "\n",
    "#shuffled list\n",
    "mixed_up_list = shuffle_list(mylist)\n",
    "\n",
    "#User guess\n",
    "guess = player_guess();\n",
    "\n",
    "#check guess\n",
    "check_guess(mixed_up_list,guess)"
   ]
  },
  {
   "cell_type": "markdown",
   "id": "74602dae",
   "metadata": {},
   "source": [
    "## *args and **kwargs"
   ]
  },
  {
   "cell_type": "code",
   "execution_count": 78,
   "id": "ac72b21f",
   "metadata": {},
   "outputs": [],
   "source": [
    "def myfunc(a,b,c=0,d=0,e=0):\n",
    "    return sum((a,b,c,d,e))*0.05"
   ]
  },
  {
   "cell_type": "code",
   "execution_count": 79,
   "id": "c9a838f1",
   "metadata": {},
   "outputs": [
    {
     "data": {
      "text/plain": [
       "30.0"
      ]
     },
     "execution_count": 79,
     "metadata": {},
     "output_type": "execute_result"
    }
   ],
   "source": [
    "myfunc(100,200,300)"
   ]
  },
  {
   "cell_type": "code",
   "execution_count": 80,
   "id": "95567a0f",
   "metadata": {},
   "outputs": [],
   "source": [
    "def myfunc(*args):\n",
    "    return sum(args)*0.05"
   ]
  },
  {
   "cell_type": "code",
   "execution_count": 82,
   "id": "886885a5",
   "metadata": {},
   "outputs": [
    {
     "data": {
      "text/plain": [
       "10.0"
      ]
     },
     "execution_count": 82,
     "metadata": {},
     "output_type": "execute_result"
    }
   ],
   "source": [
    "myfunc(40,60,10,20,30,40)"
   ]
  },
  {
   "cell_type": "code",
   "execution_count": 83,
   "id": "e6269409",
   "metadata": {},
   "outputs": [],
   "source": [
    "def myfunc2(*args):\n",
    "    print(args)"
   ]
  },
  {
   "cell_type": "code",
   "execution_count": 84,
   "id": "f2fff7af",
   "metadata": {},
   "outputs": [
    {
     "name": "stdout",
     "output_type": "stream",
     "text": [
      "(1, 2, 3, 4)\n"
     ]
    }
   ],
   "source": [
    "myfunc2(1,2,3,4,)"
   ]
  },
  {
   "cell_type": "code",
   "execution_count": 87,
   "id": "943f9e4c",
   "metadata": {},
   "outputs": [],
   "source": [
    "def myfunc(**kwargs):\n",
    "    print(kwargs)\n",
    "    if('fruit' in kwargs):\n",
    "        print(\"My fruit of choice is {}\".format(kwargs['fruit']))\n",
    "    else:\n",
    "        print(\"I didn't find any fruit here.\")"
   ]
  },
  {
   "cell_type": "code",
   "execution_count": 88,
   "id": "28a3933d",
   "metadata": {},
   "outputs": [
    {
     "name": "stdout",
     "output_type": "stream",
     "text": [
      "{'fruit': 'mango', 'veggie': 'lettuce'}\n",
      "My fruit of choice is mango\n"
     ]
    }
   ],
   "source": [
    "myfunc(fruit=\"mango\",veggie=\"lettuce\")"
   ]
  },
  {
   "cell_type": "code",
   "execution_count": 91,
   "id": "72aca2d2",
   "metadata": {},
   "outputs": [],
   "source": [
    "def myfunc3(*args,**kwargs):\n",
    "    print(args)\n",
    "    print(kwargs)\n",
    "    print(\"I would like to have {} {}\".format(args[0],kwargs['food']))"
   ]
  },
  {
   "cell_type": "code",
   "execution_count": 92,
   "id": "7ba58799",
   "metadata": {},
   "outputs": [
    {
     "name": "stdout",
     "output_type": "stream",
     "text": [
      "(10, 20, 30)\n",
      "{'fruit': 'mango', 'food': 'egg'}\n",
      "I would like to have 10 egg\n"
     ]
    }
   ],
   "source": [
    "myfunc3(10,20,30,fruit='mango',food=\"egg\")"
   ]
  },
  {
   "cell_type": "code",
   "execution_count": null,
   "id": "0457454e",
   "metadata": {},
   "outputs": [],
   "source": []
  }
 ],
 "metadata": {
  "kernelspec": {
   "display_name": "Python 3",
   "language": "python",
   "name": "python3"
  },
  "language_info": {
   "codemirror_mode": {
    "name": "ipython",
    "version": 3
   },
   "file_extension": ".py",
   "mimetype": "text/x-python",
   "name": "python",
   "nbconvert_exporter": "python",
   "pygments_lexer": "ipython3",
   "version": "3.8.8"
  }
 },
 "nbformat": 4,
 "nbformat_minor": 5
}
