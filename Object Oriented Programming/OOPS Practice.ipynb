{
 "cells": [
  {
   "cell_type": "code",
   "execution_count": 1,
   "id": "75996672",
   "metadata": {},
   "outputs": [],
   "source": [
    "mylist= [1,2,3,4]"
   ]
  },
  {
   "cell_type": "code",
   "execution_count": 2,
   "id": "de737a73",
   "metadata": {},
   "outputs": [],
   "source": [
    "myset = set()"
   ]
  },
  {
   "cell_type": "code",
   "execution_count": 3,
   "id": "be2e1489",
   "metadata": {},
   "outputs": [
    {
     "data": {
      "text/plain": [
       "set"
      ]
     },
     "execution_count": 3,
     "metadata": {},
     "output_type": "execute_result"
    }
   ],
   "source": [
    "type(myset)"
   ]
  },
  {
   "cell_type": "code",
   "execution_count": 4,
   "id": "9cab843d",
   "metadata": {},
   "outputs": [
    {
     "data": {
      "text/plain": [
       "list"
      ]
     },
     "execution_count": 4,
     "metadata": {},
     "output_type": "execute_result"
    }
   ],
   "source": [
    "type(mylist)"
   ]
  },
  {
   "cell_type": "code",
   "execution_count": 16,
   "id": "73565eff",
   "metadata": {},
   "outputs": [],
   "source": [
    "class Dog:\n",
    "    def  __init__(self,breed,name,spots):\n",
    "        self.breed = breed\n",
    "        self.name=name\n",
    "        self.spots=spots"
   ]
  },
  {
   "cell_type": "code",
   "execution_count": 21,
   "id": "87fdf59b",
   "metadata": {},
   "outputs": [],
   "source": [
    "my_dog = Dog(breed=\"Labradore\",spots=True,name=\"Tommy\")"
   ]
  },
  {
   "cell_type": "code",
   "execution_count": 22,
   "id": "fa10d717",
   "metadata": {},
   "outputs": [
    {
     "data": {
      "text/plain": [
       "__main__.Dog"
      ]
     },
     "execution_count": 22,
     "metadata": {},
     "output_type": "execute_result"
    }
   ],
   "source": [
    "type(my_dog)"
   ]
  },
  {
   "cell_type": "code",
   "execution_count": 23,
   "id": "a7df76f5",
   "metadata": {},
   "outputs": [
    {
     "data": {
      "text/plain": [
       "'Labradore'"
      ]
     },
     "execution_count": 23,
     "metadata": {},
     "output_type": "execute_result"
    }
   ],
   "source": [
    "my_dog.breed"
   ]
  },
  {
   "cell_type": "code",
   "execution_count": 24,
   "id": "74e3da8a",
   "metadata": {},
   "outputs": [
    {
     "data": {
      "text/plain": [
       "True"
      ]
     },
     "execution_count": 24,
     "metadata": {},
     "output_type": "execute_result"
    }
   ],
   "source": [
    "my_dog.spots"
   ]
  },
  {
   "cell_type": "code",
   "execution_count": 25,
   "id": "31247f7b",
   "metadata": {},
   "outputs": [
    {
     "data": {
      "text/plain": [
       "'Tommy'"
      ]
     },
     "execution_count": 25,
     "metadata": {},
     "output_type": "execute_result"
    }
   ],
   "source": [
    "my_dog.name"
   ]
  },
  {
   "cell_type": "code",
   "execution_count": 62,
   "id": "e1b0b631",
   "metadata": {},
   "outputs": [],
   "source": [
    "class Dog:\n",
    "    \n",
    "    #class object attribute\n",
    "    #same for any instance of a class\n",
    "    species = \"mammal\"\n",
    "    \n",
    "    def  __init__(self,breed,name):\n",
    "        self.breed = breed\n",
    "        self.name=name\n",
    "#         self.spots=spots\n",
    "        \n",
    "    #operations/actions --> methods\n",
    "    def bark(self):\n",
    "        print(f\"Woof!! My name is {self.name}\")"
   ]
  },
  {
   "cell_type": "code",
   "execution_count": 63,
   "id": "f622891e",
   "metadata": {},
   "outputs": [],
   "source": [
    "my_dog1 = Dog(breed=\"Lab\",name=\"Sammy\")"
   ]
  },
  {
   "cell_type": "code",
   "execution_count": 64,
   "id": "68f70cf8",
   "metadata": {},
   "outputs": [
    {
     "data": {
      "text/plain": [
       "'Lab'"
      ]
     },
     "execution_count": 64,
     "metadata": {},
     "output_type": "execute_result"
    }
   ],
   "source": [
    "my_dog1.breed"
   ]
  },
  {
   "cell_type": "code",
   "execution_count": 65,
   "id": "25633b0c",
   "metadata": {},
   "outputs": [
    {
     "data": {
      "text/plain": [
       "'mammal'"
      ]
     },
     "execution_count": 65,
     "metadata": {},
     "output_type": "execute_result"
    }
   ],
   "source": [
    "my_dog1.species"
   ]
  },
  {
   "cell_type": "code",
   "execution_count": 66,
   "id": "25c05fc1",
   "metadata": {},
   "outputs": [
    {
     "name": "stdout",
     "output_type": "stream",
     "text": [
      "Woof!! My name is Sammy\n"
     ]
    }
   ],
   "source": [
    "my_dog1.bark()"
   ]
  },
  {
   "cell_type": "code",
   "execution_count": null,
   "id": "427e0d67",
   "metadata": {},
   "outputs": [],
   "source": []
  },
  {
   "cell_type": "code",
   "execution_count": 87,
   "id": "87c2c3d1",
   "metadata": {},
   "outputs": [],
   "source": [
    "class Circle:\n",
    "    pi = 3.14\n",
    "    \n",
    "    def __init__(self,radius=1):\n",
    "        self.radius=radius\n",
    "#         self.area = self.pi * radius**2\n",
    "        self.area = Circle.pi * radius**2\n",
    "    \n",
    "    def getCircumference(self):\n",
    "        return 2*self.radius*self.pi\n",
    "    "
   ]
  },
  {
   "cell_type": "code",
   "execution_count": 88,
   "id": "5c3cd27a",
   "metadata": {},
   "outputs": [],
   "source": [
    "my_circle = Circle(30);"
   ]
  },
  {
   "cell_type": "code",
   "execution_count": 89,
   "id": "1ea8b356",
   "metadata": {},
   "outputs": [
    {
     "data": {
      "text/plain": [
       "188.4"
      ]
     },
     "execution_count": 89,
     "metadata": {},
     "output_type": "execute_result"
    }
   ],
   "source": [
    "my_circle.getCircumference()"
   ]
  },
  {
   "cell_type": "code",
   "execution_count": 90,
   "id": "b854d161",
   "metadata": {},
   "outputs": [
    {
     "data": {
      "text/plain": [
       "3.14"
      ]
     },
     "execution_count": 90,
     "metadata": {},
     "output_type": "execute_result"
    }
   ],
   "source": [
    "my_circle.pi"
   ]
  },
  {
   "cell_type": "code",
   "execution_count": 91,
   "id": "eb19a727",
   "metadata": {},
   "outputs": [
    {
     "data": {
      "text/plain": [
       "30"
      ]
     },
     "execution_count": 91,
     "metadata": {},
     "output_type": "execute_result"
    }
   ],
   "source": [
    "my_circle.radius"
   ]
  },
  {
   "cell_type": "code",
   "execution_count": 92,
   "id": "9a2d470a",
   "metadata": {},
   "outputs": [
    {
     "data": {
      "text/plain": [
       "2826.0"
      ]
     },
     "execution_count": 92,
     "metadata": {},
     "output_type": "execute_result"
    }
   ],
   "source": [
    "my_circle.area"
   ]
  },
  {
   "cell_type": "code",
   "execution_count": 93,
   "id": "65f933ff",
   "metadata": {},
   "outputs": [
    {
     "data": {
      "text/plain": [
       "3.14"
      ]
     },
     "execution_count": 93,
     "metadata": {},
     "output_type": "execute_result"
    }
   ],
   "source": [
    "Circle.pi"
   ]
  },
  {
   "cell_type": "code",
   "execution_count": null,
   "id": "28628edf",
   "metadata": {},
   "outputs": [],
   "source": []
  },
  {
   "cell_type": "code",
   "execution_count": 94,
   "id": "eb319257",
   "metadata": {},
   "outputs": [],
   "source": [
    "class Animal():\n",
    "    def __init__(self):\n",
    "        print(\"Animal Created\")\n",
    "    \n",
    "    def who_am_i(self):\n",
    "        print(\"I am an animal.\")\n",
    "    \n",
    "    def eat(self):\n",
    "        print(\"I am eating\")\n",
    "        "
   ]
  },
  {
   "cell_type": "code",
   "execution_count": 95,
   "id": "c687f9b6",
   "metadata": {},
   "outputs": [
    {
     "name": "stdout",
     "output_type": "stream",
     "text": [
      "Animal Created\n"
     ]
    }
   ],
   "source": [
    "my_animal = Animal()"
   ]
  },
  {
   "cell_type": "code",
   "execution_count": 96,
   "id": "38d78f4c",
   "metadata": {},
   "outputs": [
    {
     "name": "stdout",
     "output_type": "stream",
     "text": [
      "I am an animal.\n"
     ]
    }
   ],
   "source": [
    "my_animal.who_am_i()"
   ]
  },
  {
   "cell_type": "code",
   "execution_count": 97,
   "id": "c2cabbca",
   "metadata": {},
   "outputs": [
    {
     "name": "stdout",
     "output_type": "stream",
     "text": [
      "I am eating\n"
     ]
    }
   ],
   "source": [
    "my_animal.eat()"
   ]
  },
  {
   "cell_type": "code",
   "execution_count": 106,
   "id": "2fa82769",
   "metadata": {},
   "outputs": [],
   "source": [
    "class Dog(Animal):\n",
    "    def __init__(self):\n",
    "        Animal.__init__(self)\n",
    "        print(\"Dog Created\")\n",
    "    def who_am_i(self):\n",
    "        print(\"I am a dog!!\")\n",
    "        \n",
    "    def bark(self):\n",
    "        print(\"Woof!!\")\n",
    "        \n",
    "    def eat(self):\n",
    "        print(\"I am a dog and eating\")"
   ]
  },
  {
   "cell_type": "code",
   "execution_count": 107,
   "id": "873df057",
   "metadata": {},
   "outputs": [
    {
     "name": "stdout",
     "output_type": "stream",
     "text": [
      "Animal Created\n",
      "Dog Created\n"
     ]
    }
   ],
   "source": [
    "my_dog = Dog()"
   ]
  },
  {
   "cell_type": "code",
   "execution_count": 108,
   "id": "98b4369b",
   "metadata": {},
   "outputs": [
    {
     "name": "stdout",
     "output_type": "stream",
     "text": [
      "I am a dog and eating\n"
     ]
    }
   ],
   "source": [
    "my_dog.eat()"
   ]
  },
  {
   "cell_type": "code",
   "execution_count": 109,
   "id": "59053bf0",
   "metadata": {},
   "outputs": [
    {
     "name": "stdout",
     "output_type": "stream",
     "text": [
      "I am a dog!!\n"
     ]
    }
   ],
   "source": [
    "my_dog.who_am_i()"
   ]
  },
  {
   "cell_type": "code",
   "execution_count": 110,
   "id": "5eb33255",
   "metadata": {},
   "outputs": [
    {
     "name": "stdout",
     "output_type": "stream",
     "text": [
      "Woof!!\n"
     ]
    }
   ],
   "source": [
    "my_dog.bark()"
   ]
  },
  {
   "cell_type": "code",
   "execution_count": null,
   "id": "6f536dfb",
   "metadata": {},
   "outputs": [],
   "source": []
  },
  {
   "cell_type": "markdown",
   "id": "f958a2cf",
   "metadata": {},
   "source": [
    "# Polymorphism"
   ]
  },
  {
   "cell_type": "code",
   "execution_count": 114,
   "id": "ff9f81b2",
   "metadata": {},
   "outputs": [],
   "source": [
    "class Dog:\n",
    "    def __init__(self,name):\n",
    "        self.name = name\n",
    "    \n",
    "    def speak(self):\n",
    "        return self.name+ \" says Woof!!\"\n",
    "    "
   ]
  },
  {
   "cell_type": "code",
   "execution_count": 115,
   "id": "7e41ece0",
   "metadata": {},
   "outputs": [],
   "source": [
    "class Cat:\n",
    "    def __init__(self,name):\n",
    "        self.name = name\n",
    "    \n",
    "    def speak(self):\n",
    "        return self.name+ \" says meow!!\"\n",
    "    "
   ]
  },
  {
   "cell_type": "code",
   "execution_count": 116,
   "id": "a31442f8",
   "metadata": {},
   "outputs": [],
   "source": [
    "niko = Dog(\"Niko\")\n",
    "felix = Cat(\"Felix\")"
   ]
  },
  {
   "cell_type": "code",
   "execution_count": 117,
   "id": "adcd6127",
   "metadata": {},
   "outputs": [
    {
     "name": "stdout",
     "output_type": "stream",
     "text": [
      "Niko says Woof!!\n"
     ]
    }
   ],
   "source": [
    "print(niko.speak())"
   ]
  },
  {
   "cell_type": "code",
   "execution_count": 118,
   "id": "4197dbc7",
   "metadata": {},
   "outputs": [
    {
     "name": "stdout",
     "output_type": "stream",
     "text": [
      "Felix says meow!!\n"
     ]
    }
   ],
   "source": [
    "print(felix.speak())"
   ]
  },
  {
   "cell_type": "code",
   "execution_count": 120,
   "id": "8b24ec69",
   "metadata": {},
   "outputs": [
    {
     "name": "stdout",
     "output_type": "stream",
     "text": [
      "<class '__main__.Dog'>\n",
      "Niko says Woof!!\n",
      "<class '__main__.Cat'>\n",
      "Felix says meow!!\n"
     ]
    }
   ],
   "source": [
    "for pet in [niko,felix]:\n",
    "    print(type(pet))\n",
    "    print(pet.speak())"
   ]
  },
  {
   "cell_type": "code",
   "execution_count": 121,
   "id": "d6ed4c77",
   "metadata": {},
   "outputs": [],
   "source": [
    "def pet_speak(pet):\n",
    "    print(pet.speak())"
   ]
  },
  {
   "cell_type": "code",
   "execution_count": 122,
   "id": "4e9827a2",
   "metadata": {},
   "outputs": [
    {
     "name": "stdout",
     "output_type": "stream",
     "text": [
      "Felix says meow!!\n"
     ]
    }
   ],
   "source": [
    "pet_speak(felix)"
   ]
  },
  {
   "cell_type": "code",
   "execution_count": 124,
   "id": "78a79fd9",
   "metadata": {},
   "outputs": [
    {
     "name": "stdout",
     "output_type": "stream",
     "text": [
      "Niko says Woof!!\n"
     ]
    }
   ],
   "source": [
    "pet_speak(niko)"
   ]
  },
  {
   "cell_type": "code",
   "execution_count": 125,
   "id": "692ea098",
   "metadata": {},
   "outputs": [],
   "source": [
    "class Animal():\n",
    "    def __init__(self,name):\n",
    "        self.name = name\n",
    "    \n",
    "    def speak(self):\n",
    "        raise NotImplementedError(\"Subclass must implement this abstract method\")"
   ]
  },
  {
   "cell_type": "code",
   "execution_count": 128,
   "id": "4507d1c9",
   "metadata": {},
   "outputs": [],
   "source": [
    "class Dog(Animal):\n",
    "    def speak(self):\n",
    "        return self.name +\" says woof!!\"\n",
    "    "
   ]
  },
  {
   "cell_type": "code",
   "execution_count": 130,
   "id": "7a92501f",
   "metadata": {},
   "outputs": [],
   "source": [
    "class Cat(Animal):\n",
    "    def speak(self):\n",
    "        return self.name +\" says meow!!\"\n",
    "    "
   ]
  },
  {
   "cell_type": "code",
   "execution_count": 133,
   "id": "aa47fa13",
   "metadata": {},
   "outputs": [],
   "source": [
    "fido = Dog(\"fido\")"
   ]
  },
  {
   "cell_type": "code",
   "execution_count": 134,
   "id": "abb28dce",
   "metadata": {},
   "outputs": [],
   "source": [
    "isis = Cat(\"isis\")"
   ]
  },
  {
   "cell_type": "code",
   "execution_count": 135,
   "id": "2d2d54b0",
   "metadata": {},
   "outputs": [
    {
     "name": "stdout",
     "output_type": "stream",
     "text": [
      "fido says woof!!\n"
     ]
    }
   ],
   "source": [
    "print(fido.speak())"
   ]
  },
  {
   "cell_type": "code",
   "execution_count": 136,
   "id": "10e5c041",
   "metadata": {},
   "outputs": [
    {
     "name": "stdout",
     "output_type": "stream",
     "text": [
      "isis says meow!!\n"
     ]
    }
   ],
   "source": [
    "print(isis.speak())"
   ]
  },
  {
   "cell_type": "markdown",
   "id": "a55eda1f",
   "metadata": {},
   "source": [
    "## special methods"
   ]
  },
  {
   "cell_type": "code",
   "execution_count": 179,
   "id": "e741ab98",
   "metadata": {},
   "outputs": [],
   "source": [
    "mylist =[1,2,3,4]"
   ]
  },
  {
   "cell_type": "code",
   "execution_count": 180,
   "id": "698dbb0b",
   "metadata": {},
   "outputs": [
    {
     "data": {
      "text/plain": [
       "4"
      ]
     },
     "execution_count": 180,
     "metadata": {},
     "output_type": "execute_result"
    }
   ],
   "source": [
    "len(mylist)"
   ]
  },
  {
   "cell_type": "code",
   "execution_count": 181,
   "id": "d507202e",
   "metadata": {},
   "outputs": [],
   "source": [
    "class Sample:\n",
    "    pass"
   ]
  },
  {
   "cell_type": "code",
   "execution_count": 182,
   "id": "498eedd7",
   "metadata": {},
   "outputs": [],
   "source": [
    "mysample =Sample()"
   ]
  },
  {
   "cell_type": "code",
   "execution_count": 183,
   "id": "c71483fc",
   "metadata": {},
   "outputs": [
    {
     "name": "stdout",
     "output_type": "stream",
     "text": [
      "<__main__.Sample object at 0x7f8e08cf5070>\n"
     ]
    }
   ],
   "source": [
    "print(mysample)"
   ]
  },
  {
   "cell_type": "code",
   "execution_count": null,
   "id": "6122c8d8",
   "metadata": {},
   "outputs": [],
   "source": []
  },
  {
   "cell_type": "code",
   "execution_count": 184,
   "id": "5eb73453",
   "metadata": {},
   "outputs": [],
   "source": [
    "class Book:\n",
    "    def __init__(self,title,author,pages):\n",
    "        self.title=title\n",
    "        self.author=author\n",
    "        self.pages=pages\n",
    "        \n",
    "    def __str__(self):\n",
    "        return f\"{self.title} by {self.author}\"\n",
    "    \n",
    "    def __len__(self):\n",
    "        return self.pages\n",
    "    \n",
    "    def __del__(self):\n",
    "        print(\"a book object has been deleted\")"
   ]
  },
  {
   "cell_type": "code",
   "execution_count": 185,
   "id": "00e2ef08",
   "metadata": {},
   "outputs": [],
   "source": [
    "b= Book(\"Python rocks\",\"Jose\",200)"
   ]
  },
  {
   "cell_type": "code",
   "execution_count": 186,
   "id": "8dccc940",
   "metadata": {},
   "outputs": [
    {
     "data": {
      "text/plain": [
       "__main__.Book"
      ]
     },
     "execution_count": 186,
     "metadata": {},
     "output_type": "execute_result"
    }
   ],
   "source": [
    "type(b)"
   ]
  },
  {
   "cell_type": "code",
   "execution_count": 187,
   "id": "fd7cd82f",
   "metadata": {},
   "outputs": [
    {
     "name": "stdout",
     "output_type": "stream",
     "text": [
      "Python rocks by Jose\n"
     ]
    }
   ],
   "source": [
    "print(b)"
   ]
  },
  {
   "cell_type": "code",
   "execution_count": 188,
   "id": "65d3712a",
   "metadata": {},
   "outputs": [
    {
     "data": {
      "text/plain": [
       "200"
      ]
     },
     "execution_count": 188,
     "metadata": {},
     "output_type": "execute_result"
    }
   ],
   "source": [
    "len(b)"
   ]
  },
  {
   "cell_type": "code",
   "execution_count": 189,
   "id": "c12015cc",
   "metadata": {},
   "outputs": [
    {
     "name": "stdout",
     "output_type": "stream",
     "text": [
      "a book object has been deleted\n"
     ]
    }
   ],
   "source": [
    "del b    #used to delete the object"
   ]
  },
  {
   "cell_type": "code",
   "execution_count": null,
   "id": "50f684f5",
   "metadata": {},
   "outputs": [],
   "source": []
  }
 ],
 "metadata": {
  "kernelspec": {
   "display_name": "Python 3",
   "language": "python",
   "name": "python3"
  },
  "language_info": {
   "codemirror_mode": {
    "name": "ipython",
    "version": 3
   },
   "file_extension": ".py",
   "mimetype": "text/x-python",
   "name": "python",
   "nbconvert_exporter": "python",
   "pygments_lexer": "ipython3",
   "version": "3.8.8"
  }
 },
 "nbformat": 4,
 "nbformat_minor": 5
}
