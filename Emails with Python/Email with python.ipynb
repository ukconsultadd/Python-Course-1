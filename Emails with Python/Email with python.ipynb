{
 "cells": [
  {
   "cell_type": "markdown",
   "id": "b38e6211",
   "metadata": {},
   "source": [
    "# Sending email with python"
   ]
  },
  {
   "cell_type": "code",
   "execution_count": 1,
   "id": "3597d014",
   "metadata": {},
   "outputs": [],
   "source": [
    "import smtplib"
   ]
  },
  {
   "cell_type": "code",
   "execution_count": 2,
   "id": "99dcc74c",
   "metadata": {},
   "outputs": [],
   "source": [
    "smtp_obj = smtplib.SMTP(\"smtp.gmail.com\",587)"
   ]
  },
  {
   "cell_type": "code",
   "execution_count": 3,
   "id": "ecfa4a36",
   "metadata": {},
   "outputs": [
    {
     "data": {
      "text/plain": [
       "(250,\n",
       " b'smtp.gmail.com at your service, [122.162.56.33]\\nSIZE 35882577\\n8BITMIME\\nSTARTTLS\\nENHANCEDSTATUSCODES\\nPIPELINING\\nCHUNKING\\nSMTPUTF8')"
      ]
     },
     "execution_count": 3,
     "metadata": {},
     "output_type": "execute_result"
    }
   ],
   "source": [
    "smtp_obj.ehlo()"
   ]
  },
  {
   "cell_type": "code",
   "execution_count": 4,
   "id": "18dd228f",
   "metadata": {},
   "outputs": [
    {
     "data": {
      "text/plain": [
       "(220, b'2.0.0 Ready to start TLS')"
      ]
     },
     "execution_count": 4,
     "metadata": {},
     "output_type": "execute_result"
    }
   ],
   "source": [
    "smtp_obj.starttls()"
   ]
  },
  {
   "cell_type": "code",
   "execution_count": 5,
   "id": "f0015bd6",
   "metadata": {},
   "outputs": [
    {
     "name": "stdout",
     "output_type": "stream",
     "text": [
      "What's your password: vsnvskvns\n"
     ]
    }
   ],
   "source": [
    "password = input(\"What's your password: \")"
   ]
  },
  {
   "cell_type": "code",
   "execution_count": 6,
   "id": "60c1019f",
   "metadata": {},
   "outputs": [],
   "source": [
    "import getpass"
   ]
  },
  {
   "cell_type": "code",
   "execution_count": 8,
   "id": "a359f214",
   "metadata": {},
   "outputs": [
    {
     "name": "stdout",
     "output_type": "stream",
     "text": [
      "Password Please.... ········\n"
     ]
    }
   ],
   "source": [
    "password = getpass.getpass(\"Password Please.... \")"
   ]
  },
  {
   "cell_type": "code",
   "execution_count": 13,
   "id": "091e503c",
   "metadata": {},
   "outputs": [
    {
     "ename": "SMTPNotSupportedError",
     "evalue": "SMTP AUTH extension not supported by server.",
     "output_type": "error",
     "traceback": [
      "\u001b[0;31m---------------------------------------------------------------------------\u001b[0m",
      "\u001b[0;31mSMTPNotSupportedError\u001b[0m                     Traceback (most recent call last)",
      "\u001b[0;32m<ipython-input-13-7613471cdc3f>\u001b[0m in \u001b[0;36m<module>\u001b[0;34m\u001b[0m\n\u001b[1;32m      2\u001b[0m \u001b[0;31m# password = getpass.getpass(\"Password: \")\u001b[0m\u001b[0;34m\u001b[0m\u001b[0;34m\u001b[0m\u001b[0;34m\u001b[0m\u001b[0m\n\u001b[1;32m      3\u001b[0m \u001b[0;34m\u001b[0m\u001b[0m\n\u001b[0;32m----> 4\u001b[0;31m \u001b[0msmtp_obj\u001b[0m\u001b[0;34m.\u001b[0m\u001b[0mlogin\u001b[0m\u001b[0;34m(\u001b[0m\u001b[0;34m\"ujjwal.kansal1999@gmail.com\"\u001b[0m\u001b[0;34m,\u001b[0m\u001b[0;34m\"zuzuqktjjccwazxl\"\u001b[0m\u001b[0;34m)\u001b[0m\u001b[0;34m\u001b[0m\u001b[0;34m\u001b[0m\u001b[0m\n\u001b[0m",
      "\u001b[0;32m~/opt/anaconda3/lib/python3.8/smtplib.py\u001b[0m in \u001b[0;36mlogin\u001b[0;34m(self, user, password, initial_response_ok)\u001b[0m\n\u001b[1;32m    696\u001b[0m         \u001b[0mself\u001b[0m\u001b[0;34m.\u001b[0m\u001b[0mehlo_or_helo_if_needed\u001b[0m\u001b[0;34m(\u001b[0m\u001b[0;34m)\u001b[0m\u001b[0;34m\u001b[0m\u001b[0;34m\u001b[0m\u001b[0m\n\u001b[1;32m    697\u001b[0m         \u001b[0;32mif\u001b[0m \u001b[0;32mnot\u001b[0m \u001b[0mself\u001b[0m\u001b[0;34m.\u001b[0m\u001b[0mhas_extn\u001b[0m\u001b[0;34m(\u001b[0m\u001b[0;34m\"auth\"\u001b[0m\u001b[0;34m)\u001b[0m\u001b[0;34m:\u001b[0m\u001b[0;34m\u001b[0m\u001b[0;34m\u001b[0m\u001b[0m\n\u001b[0;32m--> 698\u001b[0;31m             raise SMTPNotSupportedError(\n\u001b[0m\u001b[1;32m    699\u001b[0m                 \"SMTP AUTH extension not supported by server.\")\n\u001b[1;32m    700\u001b[0m \u001b[0;34m\u001b[0m\u001b[0m\n",
      "\u001b[0;31mSMTPNotSupportedError\u001b[0m: SMTP AUTH extension not supported by server."
     ]
    }
   ],
   "source": [
    "# email = getpass.getpass(\"Email: \")\n",
    "# password = getpass.getpass(\"Password: \")\n",
    "\n",
    "smtp_obj.login(\"ujjwal.kansal1999@gmail.com\",\"zuzuqktjjccwazxl\")"
   ]
  },
  {
   "cell_type": "code",
   "execution_count": null,
   "id": "ed775fe7",
   "metadata": {},
   "outputs": [],
   "source": []
  }
 ],
 "metadata": {
  "kernelspec": {
   "display_name": "Python 3",
   "language": "python",
   "name": "python3"
  },
  "language_info": {
   "codemirror_mode": {
    "name": "ipython",
    "version": 3
   },
   "file_extension": ".py",
   "mimetype": "text/x-python",
   "name": "python",
   "nbconvert_exporter": "python",
   "pygments_lexer": "ipython3",
   "version": "3.8.8"
  }
 },
 "nbformat": 4,
 "nbformat_minor": 5
}
