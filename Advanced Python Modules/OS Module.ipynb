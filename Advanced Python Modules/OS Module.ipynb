{
 "cells": [
  {
   "cell_type": "code",
   "execution_count": 2,
   "id": "835832eb",
   "metadata": {},
   "outputs": [
    {
     "data": {
      "text/plain": [
       "'/Users/ujjwalkansal/Desktop/Python Courses/Udemy Course/Advanced Python Modules'"
      ]
     },
     "execution_count": 2,
     "metadata": {},
     "output_type": "execute_result"
    }
   ],
   "source": [
    "pwd"
   ]
  },
  {
   "cell_type": "code",
   "execution_count": 3,
   "id": "e077bbf7",
   "metadata": {},
   "outputs": [],
   "source": [
    "f = open('practice.txt','w+')\n",
    "f.write(\"This is a test string\")\n",
    "f.close()"
   ]
  },
  {
   "cell_type": "code",
   "execution_count": 4,
   "id": "93571802",
   "metadata": {},
   "outputs": [],
   "source": [
    "import os"
   ]
  },
  {
   "cell_type": "code",
   "execution_count": 5,
   "id": "fab9257c",
   "metadata": {},
   "outputs": [
    {
     "data": {
      "text/plain": [
       "'/Users/ujjwalkansal/Desktop/Python Courses/Udemy Course/Advanced Python Modules'"
      ]
     },
     "execution_count": 5,
     "metadata": {},
     "output_type": "execute_result"
    }
   ],
   "source": [
    "os.getcwd()"
   ]
  },
  {
   "cell_type": "code",
   "execution_count": 6,
   "id": "b76dcee6",
   "metadata": {},
   "outputs": [
    {
     "data": {
      "text/plain": [
       "['practice.txt',\n",
       " 'Collections Module.ipynb',\n",
       " 'OS Module.ipynb',\n",
       " '.ipynb_checkpoints']"
      ]
     },
     "execution_count": 6,
     "metadata": {},
     "output_type": "execute_result"
    }
   ],
   "source": [
    "os.listdir()"
   ]
  },
  {
   "cell_type": "code",
   "execution_count": 7,
   "id": "7630eddf",
   "metadata": {},
   "outputs": [
    {
     "data": {
      "text/plain": [
       "['.DS_Store',\n",
       " 'Python Objects and Basic data structures',\n",
       " 'Python generators',\n",
       " 'Errors and Exception Handling',\n",
       " 'Methods and Functions',\n",
       " 'Modules and Packages',\n",
       " 'Milestone Project-2',\n",
       " 'Python Statements',\n",
       " 'Object Oriented Programming',\n",
       " 'Advanced Python Modules',\n",
       " '09-Built-in Functions',\n",
       " '.ipynb_checkpoints',\n",
       " 'Python Decorators',\n",
       " 'Python Comparison Operators',\n",
       " '.git',\n",
       " 'Milestone Project-1']"
      ]
     },
     "execution_count": 7,
     "metadata": {},
     "output_type": "execute_result"
    }
   ],
   "source": [
    "os.listdir(\"/Users/ujjwalkansal/Desktop/Python Courses/Udemy Course\")"
   ]
  },
  {
   "cell_type": "code",
   "execution_count": 8,
   "id": "d9bc81f6",
   "metadata": {},
   "outputs": [],
   "source": [
    "import shutil"
   ]
  },
  {
   "cell_type": "code",
   "execution_count": 9,
   "id": "d4e93740",
   "metadata": {},
   "outputs": [
    {
     "data": {
      "text/plain": [
       "'/Users/ujjwalkansal/Desktop/practice.txt'"
      ]
     },
     "execution_count": 9,
     "metadata": {},
     "output_type": "execute_result"
    }
   ],
   "source": [
    "shutil.move('practice.txt','/Users/ujjwalkansal/Desktop')"
   ]
  },
  {
   "cell_type": "code",
   "execution_count": 10,
   "id": "1d481a3f",
   "metadata": {},
   "outputs": [
    {
     "data": {
      "text/plain": [
       "'/Users/ujjwalkansal/Desktop/Python Courses/Udemy Course/Advanced Python Modules/practice.txt'"
      ]
     },
     "execution_count": 10,
     "metadata": {},
     "output_type": "execute_result"
    }
   ],
   "source": [
    "shutil.move('/Users/ujjwalkansal/Desktop/practice.txt',os.getcwd())"
   ]
  },
  {
   "cell_type": "code",
   "execution_count": 11,
   "id": "ad864dfd",
   "metadata": {},
   "outputs": [],
   "source": [
    "import send2trash"
   ]
  },
  {
   "cell_type": "code",
   "execution_count": 12,
   "id": "fe3711a6",
   "metadata": {},
   "outputs": [
    {
     "data": {
      "text/plain": [
       "['practice.txt',\n",
       " 'Collections Module.ipynb',\n",
       " 'OS Module.ipynb',\n",
       " '.ipynb_checkpoints']"
      ]
     },
     "execution_count": 12,
     "metadata": {},
     "output_type": "execute_result"
    }
   ],
   "source": [
    "os.listdir()"
   ]
  },
  {
   "cell_type": "code",
   "execution_count": 13,
   "id": "cf92a6da",
   "metadata": {},
   "outputs": [],
   "source": [
    "f = open('practice2.txt','w+')\n",
    "f.write(\"This is a test2 string\")\n",
    "f.close()"
   ]
  },
  {
   "cell_type": "code",
   "execution_count": 14,
   "id": "76a02f2e",
   "metadata": {},
   "outputs": [
    {
     "data": {
      "text/plain": [
       "['practice2.txt',\n",
       " 'practice.txt',\n",
       " 'Collections Module.ipynb',\n",
       " 'OS Module.ipynb',\n",
       " '.ipynb_checkpoints']"
      ]
     },
     "execution_count": 14,
     "metadata": {},
     "output_type": "execute_result"
    }
   ],
   "source": [
    "os.listdir()"
   ]
  },
  {
   "cell_type": "code",
   "execution_count": 15,
   "id": "d99eb93e",
   "metadata": {},
   "outputs": [],
   "source": [
    "send2trash.send2trash(\"practice.txt\")"
   ]
  },
  {
   "cell_type": "code",
   "execution_count": 16,
   "id": "6692a1b9",
   "metadata": {},
   "outputs": [
    {
     "data": {
      "text/plain": [
       "['practice2.txt',\n",
       " 'Collections Module.ipynb',\n",
       " 'OS Module.ipynb',\n",
       " '.ipynb_checkpoints']"
      ]
     },
     "execution_count": 16,
     "metadata": {},
     "output_type": "execute_result"
    }
   ],
   "source": [
    "os.listdir()"
   ]
  },
  {
   "cell_type": "code",
   "execution_count": 17,
   "id": "9d01fa3c",
   "metadata": {},
   "outputs": [
    {
     "name": "stdout",
     "output_type": "stream",
     "text": [
      "Currently looking at /Users/ujjwalkansal/Desktop/Python Courses/Udemy Course/Advanced Python Modules/Example_Top_Level\n",
      "\n",
      "\n",
      "The subfolders are: \n",
      "Subfolder: Mid-Example-One\n",
      "\n",
      "\n",
      "The files are: \n",
      "File: .DS_Store\n",
      "File: Mid-Example.txt\n",
      "\n",
      "\n",
      "Currently looking at /Users/ujjwalkansal/Desktop/Python Courses/Udemy Course/Advanced Python Modules/Example_Top_Level/Mid-Example-One\n",
      "\n",
      "\n",
      "The subfolders are: \n",
      "Subfolder: Bottom-Level-Two\n",
      "Subfolder: Bottom-Level-One\n",
      "\n",
      "\n",
      "The files are: \n",
      "File: .DS_Store\n",
      "File: Mid-Level-Doc.txt\n",
      "\n",
      "\n",
      "Currently looking at /Users/ujjwalkansal/Desktop/Python Courses/Udemy Course/Advanced Python Modules/Example_Top_Level/Mid-Example-One/Bottom-Level-Two\n",
      "\n",
      "\n",
      "The subfolders are: \n",
      "\n",
      "\n",
      "The files are: \n",
      "File: Bottom-Text-Two.txt\n",
      "\n",
      "\n",
      "Currently looking at /Users/ujjwalkansal/Desktop/Python Courses/Udemy Course/Advanced Python Modules/Example_Top_Level/Mid-Example-One/Bottom-Level-One\n",
      "\n",
      "\n",
      "The subfolders are: \n",
      "\n",
      "\n",
      "The files are: \n",
      "File: One_Text.txt\n",
      "\n",
      "\n"
     ]
    }
   ],
   "source": [
    "file_path = '/Users/ujjwalkansal/Desktop/Python Courses/Udemy Course/Advanced Python Modules/Example_Top_Level'\n",
    "for folder,sub_folders,files in os.walk(file_path):\n",
    "    \n",
    "    print(f\"Currently looking at {folder}\")\n",
    "    print(\"\\n\")\n",
    "    print(\"The subfolders are: \")\n",
    "    for sub_fold in sub_folders:\n",
    "        print(f\"Subfolder: {sub_fold}\")\n",
    "        \n",
    "    print(\"\\n\")\n",
    "    print(\"The files are: \")\n",
    "    for f in files:\n",
    "        print(f\"File: {f}\")\n",
    "    print(\"\\n\")\n",
    "    "
   ]
  },
  {
   "cell_type": "code",
   "execution_count": null,
   "id": "dbd3abee",
   "metadata": {},
   "outputs": [],
   "source": []
  }
 ],
 "metadata": {
  "kernelspec": {
   "display_name": "Python 3",
   "language": "python",
   "name": "python3"
  },
  "language_info": {
   "codemirror_mode": {
    "name": "ipython",
    "version": 3
   },
   "file_extension": ".py",
   "mimetype": "text/x-python",
   "name": "python",
   "nbconvert_exporter": "python",
   "pygments_lexer": "ipython3",
   "version": "3.8.8"
  }
 },
 "nbformat": 4,
 "nbformat_minor": 5
}
